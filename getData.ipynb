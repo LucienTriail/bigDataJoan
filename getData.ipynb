{
 "cells": [
  {
   "cell_type": "code",
   "execution_count": 1,
   "id": "f7c1e33d-2dfd-4acc-9b8d-15cc01252f25",
   "metadata": {
    "pycharm": {
     "name": "#%%\n"
    }
   },
   "outputs": [
    {
     "name": "stdout",
     "output_type": "stream",
     "text": [
      "root\n",
      " |-- JOUR: string (nullable = true)\n",
      " |-- LIBELLE_ARRET: string (nullable = true)\n",
      " |-- CATEGORIE_TITRE: string (nullable = true)\n",
      " |-- NB_VALD: integer (nullable = true)\n",
      "\n",
      "-RECORD 0-----------------------------\n",
      " JOUR          | 2021-01-28           \n",
      " LIBELLE_ARRET | VILLEJUIF-LEO LAG... \n",
      " sum(NB_VALD)  | 4573                 \n",
      "-RECORD 1-----------------------------\n",
      " JOUR          | 2021-01-28           \n",
      " LIBELLE_ARRET | PETIT-VAUX           \n",
      " sum(NB_VALD)  | 219                  \n",
      "-RECORD 2-----------------------------\n",
      " JOUR          | 2021-01-29           \n",
      " LIBELLE_ARRET | FELIX FAURE          \n",
      " sum(NB_VALD)  | 2831                 \n",
      "-RECORD 3-----------------------------\n",
      " JOUR          | 2021-01-29           \n",
      " LIBELLE_ARRET | GEORGE V             \n",
      " sum(NB_VALD)  | 7027                 \n",
      "-RECORD 4-----------------------------\n",
      " JOUR          | 2021-01-29           \n",
      " LIBELLE_ARRET | PORTE DOREE          \n",
      " sum(NB_VALD)  | 4442                 \n",
      "-RECORD 5-----------------------------\n",
      " JOUR          | 2021-01-29           \n",
      " LIBELLE_ARRET | GRANDS BOULEVARDS... \n",
      " sum(NB_VALD)  | 6486                 \n",
      "-RECORD 6-----------------------------\n",
      " JOUR          | 2021-01-29           \n",
      " LIBELLE_ARRET | BOBIGNY-PABLO PIC... \n",
      " sum(NB_VALD)  | 16222                \n",
      "-RECORD 7-----------------------------\n",
      " JOUR          | 2021-06-25           \n",
      " LIBELLE_ARRET | PONT DE SEVRES       \n",
      " sum(NB_VALD)  | 10119                \n",
      "-RECORD 8-----------------------------\n",
      " JOUR          | 2021-06-25           \n",
      " LIBELLE_ARRET | RAMBUTEAU            \n",
      " sum(NB_VALD)  | 6228                 \n",
      "-RECORD 9-----------------------------\n",
      " JOUR          | 2021-06-25           \n",
      " LIBELLE_ARRET | SAINT-QUENTIN-EN-... \n",
      " sum(NB_VALD)  | 3834                 \n",
      "only showing top 10 rows\n",
      "\n"
     ]
    }
   ],
   "source": [
    "import pyspark\n",
    "import csv\n",
    "import sys  \n",
    "from pyspark.sql import SparkSession\n",
    "from pyspark.sql.types import StructType,StructField, StringType, IntegerType\n",
    "from pyspark.sql.functions import col\n",
    "\n",
    "spark = SparkSession.builder.appName(\"Python\").getOrCreate()\n",
    "#sparkContext = spark.SparkContext\n",
    "#spark = SparkSession.builder.master(\"put hdfs adress here\").appName(\"Python\").getOrCreate()\n",
    "\n",
    "\n",
    "\n",
    "df = spark.read.format(\"csv\").option(\"header\", True).option(\"delimiter\",\";\").load('validations_1er_semestre_2021.csv')\n",
    "#print(type(df))\n",
    "#df.show(10,vertical=True)\n",
    "#df.groupBy(\"JOUR\").agg(sum(\"NB_VALD\")).show(10,vertical=True)\n",
    "\n",
    "df2 = df.select(col(\"JOUR\"),col(\"LIBELLE_ARRET\"),col(\"CATEGORIE_TITRE\"),col(\"NB_VALD\").astype(IntegerType()))\n",
    "df2.printSchema()\n",
    "\n",
    "#df2.groupBy(\"JOUR\",\"LIBELLE_ARRET\").sum(\"NB_VALD\").show(10,vertical=True)\n",
    "\n",
    "df2.groupBy(\"JOUR\").sum(\"NB_VALD\").show(10,vertical=True)\n",
    "\n"
   ]
  },
  {
   "cell_type": "code",
   "execution_count": null,
   "id": "9a3a4fdc-27dc-40b4-89c3-b2077b9d7021",
   "metadata": {
    "pycharm": {
     "name": "#%%\n"
    }
   },
   "outputs": [],
   "source": []
  },
  {
   "cell_type": "code",
   "execution_count": null,
   "id": "a958af36-03b8-4e65-9420-d8f8e344386c",
   "metadata": {},
   "outputs": [],
   "source": []
  }
 ],
 "metadata": {
  "kernelspec": {
   "display_name": "Python 3 (ipykernel)",
   "language": "python",
   "name": "python3"
  },
  "language_info": {
   "codemirror_mode": {
    "name": "ipython",
    "version": 3
   },
   "file_extension": ".py",
   "mimetype": "text/x-python",
   "name": "python",
   "nbconvert_exporter": "python",
   "pygments_lexer": "ipython3",
   "version": "3.10.5"
  }
 },
 "nbformat": 4,
 "nbformat_minor": 5
}