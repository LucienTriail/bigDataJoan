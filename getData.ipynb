{
 "cells": [
  {
   "cell_type": "code",
   "execution_count": 1,
   "id": "f7c1e33d-2dfd-4acc-9b8d-15cc01252f25",
   "metadata": {
    "pycharm": {
     "name": "#%%\n"
    }
   },
   "outputs": [
    {
     "name": "stdout",
     "output_type": "stream",
     "text": [
      "{'FGT': '136', 'RICHELIEU-DROUOT': '737'}\n"
     ]
    },
    {
     "data": {
      "text/plain": [
       "'\\nrdd2= rdd.map(lambda x: (x,1))\\nfor element in rdd2.take(90):\\n    print(element)\\n'"
      ]
     },
     "execution_count": 1,
     "metadata": {},
     "output_type": "execute_result"
    }
   ],
   "source": [
    "import pyspark\n",
    "import csv\n",
    "import sys  \n",
    "from pyspark.sql import SparkSession\n",
    "spark = SparkSession.builder.appName(\"Python\").getOrCreate()\n",
    "\n",
    "\n",
    "\n",
    "df = spark.read.format(\"csv\").option(\"header\", True).option(\"delimiter\",\";\").load('validations_1er_semestre_2021.csv')\n",
    "\n",
    "#df.first()\n",
    "#df.show(2,vertical=True)\n",
    "\n",
    "\n",
    "\n",
    "\n",
    "df_rdd=df.rdd\n",
    "\n",
    "results = df_rdd.map(lambda x: {x.CATEGORIE_TITRE:x.NB_VALD,x.LIBELLE_ARRET:x.CODE_STIF_ARRET}).collect()\n",
    "print(results[0])\n",
    "\n",
    "\n"
   ]
  },
  {
   "cell_type": "code",
   "execution_count": null,
   "id": "9a3a4fdc-27dc-40b4-89c3-b2077b9d7021",
   "metadata": {
    "pycharm": {
     "name": "#%%\n"
    }
   },
   "outputs": [],
   "source": []
  },
  {
   "cell_type": "code",
   "execution_count": null,
   "id": "a958af36-03b8-4e65-9420-d8f8e344386c",
   "metadata": {},
   "outputs": [],
   "source": []
  }
 ],
 "metadata": {
  "kernelspec": {
   "display_name": "Python 3 (ipykernel)",
   "language": "python",
   "name": "python3"
  },
  "language_info": {
   "codemirror_mode": {
    "name": "ipython",
    "version": 3
   },
   "file_extension": ".py",
   "mimetype": "text/x-python",
   "name": "python",
   "nbconvert_exporter": "python",
   "pygments_lexer": "ipython3",
   "version": "3.10.5"
  }
 },
 "nbformat": 4,
 "nbformat_minor": 5
}