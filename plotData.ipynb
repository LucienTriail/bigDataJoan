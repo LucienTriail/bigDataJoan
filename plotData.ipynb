{
 "cells": [
  {
   "cell_type": "code",
   "execution_count": null,
   "id": "8e26257f-60a4-4d66-bc62-60a16896de87",
   "metadata": {},
   "outputs": [],
   "source": [
    "import pyspark\n",
    "import csv\n",
    "import sys  \n",
    "from pyspark.sql import SparkSession\n",
    "from pyspark.sql.types import StructType,StructField, StringType, IntegerType\n",
    "from pyspark.sql.functions import col\n",
    "import matplotlib.pyplot as plt\n",
    "import numpy as np\n",
    "from pyspark.sql.functions import count\n",
    "\n",
    "spark = SparkSession.builder.appName(\"Python\").getOrCreate()\n",
    "\n",
    "#spark = SparkSession.builder.master(\"put hdfs adress here\").appName(\"Python\").getOrCreate()\n",
    "\n",
    "\n",
    "\n",
    "df = spark.read.format(\"csv\").option(\"header\", True).option(\"delimiter\",\";\").load('objets-trouves-restitution.csv')\n",
    "#df.printSchema()\n",
    "\n",
    "\n",
    "df2 = df.select(col(\"Date\"),col(\"Code UIC\").astype(IntegerType()))\n",
    "#df2.printSchema()\n",
    "\n",
    "#df2 = df.select(count(\"Code UIC\"))\n",
    "#print(df2)\n",
    "\n",
    "\n",
    "df2.groupBy(\"Date\").agg(count(\"Code UIC\").alias(\"Code UIC\")) #.show(10,vertical=True)\n",
    "#df3 = df2.select(\"Code UIC\").groupBy(\"Date et heure de restitution\")#.collect() #show(10,vertical=True)\n",
    "#print(df3)\n",
    "\n",
    "\n",
    "mach = df2.select(col('Date'), col('Code UIC')).rdd.map(lambda x: (x[0], 1)).collect()\n",
    "\n",
    "#print(mach[0])\n",
    "\n",
    "#plt.scatter(*zip(*mach))\n",
    "#plt.show()\n",
    "plt.plot(*zip(*mach))\n",
    "#plt.title('Validation par jour', fontsize=25)\n",
    "#plt.xlabel('Jour', fontsize=20)\n",
    "#plt.ylabel('flux', fontsize=20)\n",
    "#plt.xlim([0,153])\n",
    "#plt.ylim([0,5000000])\n",
    "#plt.xticks(np.arange(0, 153, 30))\n",
    "#plt.yticks(np.arange(0, 5000000, 500000))\n",
    "plt.show()\n",
    "\n"
   ]
  },
  {
   "cell_type": "code",
   "execution_count": null,
   "id": "878af87c-d0a0-4dd6-b0a1-5a890258016e",
   "metadata": {},
   "outputs": [],
   "source": []
  },
  {
   "cell_type": "code",
   "execution_count": null,
   "id": "7caae555-17b6-43f4-8ed6-9b3e907bbed5",
   "metadata": {},
   "outputs": [],
   "source": []
  }
 ],
 "metadata": {
  "kernelspec": {
   "display_name": "Python 3 (ipykernel)",
   "language": "python",
   "name": "python3"
  },
  "language_info": {
   "codemirror_mode": {
    "name": "ipython",
    "version": 3
   },
   "file_extension": ".py",
   "mimetype": "text/x-python",
   "name": "python",
   "nbconvert_exporter": "python",
   "pygments_lexer": "ipython3",
   "version": "3.10.5"
  }
 },
 "nbformat": 4,
 "nbformat_minor": 5
}
